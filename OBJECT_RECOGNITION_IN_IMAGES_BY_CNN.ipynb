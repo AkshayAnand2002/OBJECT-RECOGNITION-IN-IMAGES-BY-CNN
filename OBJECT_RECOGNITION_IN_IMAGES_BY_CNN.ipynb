{
  "nbformat": 4,
  "nbformat_minor": 0,
  "metadata": {
    "colab": {
      "provenance": []
    },
    "kernelspec": {
      "name": "python3",
      "display_name": "Python 3"
    },
    "language_info": {
      "name": "python"
    }
  },
  "cells": [
    {
      "cell_type": "code",
      "execution_count": 1,
      "metadata": {
        "colab": {
          "base_uri": "https://localhost:8080/"
        },
        "id": "trySuwf3qDTP",
        "outputId": "ab6b1c68-8f23-40ce-bf03-af1f64ac6599"
      },
      "outputs": [
        {
          "output_type": "stream",
          "name": "stdout",
          "text": [
            "Looking in indexes: https://pypi.org/simple, https://us-python.pkg.dev/colab-wheels/public/simple/\n",
            "Collecting tensorflow-gpu\n",
            "  Downloading tensorflow_gpu-2.11.0-cp38-cp38-manylinux_2_17_x86_64.manylinux2014_x86_64.whl (588.3 MB)\n",
            "\u001b[K     |████████████████████████████████| 588.3 MB 20 kB/s \n",
            "\u001b[?25hRequirement already satisfied: h5py>=2.9.0 in /usr/local/lib/python3.8/dist-packages (from tensorflow-gpu) (3.1.0)\n",
            "Collecting tensorboard<2.12,>=2.11\n",
            "  Downloading tensorboard-2.11.0-py3-none-any.whl (6.0 MB)\n",
            "\u001b[K     |████████████████████████████████| 6.0 MB 52.5 MB/s \n",
            "\u001b[?25hRequirement already satisfied: google-pasta>=0.1.1 in /usr/local/lib/python3.8/dist-packages (from tensorflow-gpu) (0.2.0)\n",
            "Collecting flatbuffers>=2.0\n",
            "  Downloading flatbuffers-22.12.6-py2.py3-none-any.whl (26 kB)\n",
            "Requirement already satisfied: setuptools in /usr/local/lib/python3.8/dist-packages (from tensorflow-gpu) (57.4.0)\n",
            "Requirement already satisfied: typing-extensions>=3.6.6 in /usr/local/lib/python3.8/dist-packages (from tensorflow-gpu) (4.4.0)\n",
            "Requirement already satisfied: packaging in /usr/local/lib/python3.8/dist-packages (from tensorflow-gpu) (21.3)\n",
            "Requirement already satisfied: protobuf<3.20,>=3.9.2 in /usr/local/lib/python3.8/dist-packages (from tensorflow-gpu) (3.19.6)\n",
            "Requirement already satisfied: libclang>=13.0.0 in /usr/local/lib/python3.8/dist-packages (from tensorflow-gpu) (14.0.6)\n",
            "Requirement already satisfied: opt-einsum>=2.3.2 in /usr/local/lib/python3.8/dist-packages (from tensorflow-gpu) (3.3.0)\n",
            "Requirement already satisfied: grpcio<2.0,>=1.24.3 in /usr/local/lib/python3.8/dist-packages (from tensorflow-gpu) (1.51.1)\n",
            "Collecting keras<2.12,>=2.11.0\n",
            "  Downloading keras-2.11.0-py2.py3-none-any.whl (1.7 MB)\n",
            "\u001b[K     |████████████████████████████████| 1.7 MB 58.5 MB/s \n",
            "\u001b[?25hRequirement already satisfied: tensorflow-io-gcs-filesystem>=0.23.1 in /usr/local/lib/python3.8/dist-packages (from tensorflow-gpu) (0.28.0)\n",
            "Requirement already satisfied: six>=1.12.0 in /usr/local/lib/python3.8/dist-packages (from tensorflow-gpu) (1.15.0)\n",
            "Requirement already satisfied: numpy>=1.20 in /usr/local/lib/python3.8/dist-packages (from tensorflow-gpu) (1.21.6)\n",
            "Requirement already satisfied: astunparse>=1.6.0 in /usr/local/lib/python3.8/dist-packages (from tensorflow-gpu) (1.6.3)\n",
            "Requirement already satisfied: gast<=0.4.0,>=0.2.1 in /usr/local/lib/python3.8/dist-packages (from tensorflow-gpu) (0.4.0)\n",
            "Requirement already satisfied: wrapt>=1.11.0 in /usr/local/lib/python3.8/dist-packages (from tensorflow-gpu) (1.14.1)\n",
            "Collecting tensorflow-estimator<2.12,>=2.11.0\n",
            "  Downloading tensorflow_estimator-2.11.0-py2.py3-none-any.whl (439 kB)\n",
            "\u001b[K     |████████████████████████████████| 439 kB 58.4 MB/s \n",
            "\u001b[?25hRequirement already satisfied: termcolor>=1.1.0 in /usr/local/lib/python3.8/dist-packages (from tensorflow-gpu) (2.1.1)\n",
            "Requirement already satisfied: absl-py>=1.0.0 in /usr/local/lib/python3.8/dist-packages (from tensorflow-gpu) (1.3.0)\n",
            "Requirement already satisfied: wheel<1.0,>=0.23.0 in /usr/local/lib/python3.8/dist-packages (from astunparse>=1.6.0->tensorflow-gpu) (0.38.4)\n",
            "Requirement already satisfied: markdown>=2.6.8 in /usr/local/lib/python3.8/dist-packages (from tensorboard<2.12,>=2.11->tensorflow-gpu) (3.4.1)\n",
            "Requirement already satisfied: google-auth<3,>=1.6.3 in /usr/local/lib/python3.8/dist-packages (from tensorboard<2.12,>=2.11->tensorflow-gpu) (2.15.0)\n",
            "Requirement already satisfied: google-auth-oauthlib<0.5,>=0.4.1 in /usr/local/lib/python3.8/dist-packages (from tensorboard<2.12,>=2.11->tensorflow-gpu) (0.4.6)\n",
            "Requirement already satisfied: tensorboard-plugin-wit>=1.6.0 in /usr/local/lib/python3.8/dist-packages (from tensorboard<2.12,>=2.11->tensorflow-gpu) (1.8.1)\n",
            "Requirement already satisfied: werkzeug>=1.0.1 in /usr/local/lib/python3.8/dist-packages (from tensorboard<2.12,>=2.11->tensorflow-gpu) (1.0.1)\n",
            "Requirement already satisfied: tensorboard-data-server<0.7.0,>=0.6.0 in /usr/local/lib/python3.8/dist-packages (from tensorboard<2.12,>=2.11->tensorflow-gpu) (0.6.1)\n",
            "Requirement already satisfied: requests<3,>=2.21.0 in /usr/local/lib/python3.8/dist-packages (from tensorboard<2.12,>=2.11->tensorflow-gpu) (2.23.0)\n",
            "Requirement already satisfied: cachetools<6.0,>=2.0.0 in /usr/local/lib/python3.8/dist-packages (from google-auth<3,>=1.6.3->tensorboard<2.12,>=2.11->tensorflow-gpu) (5.2.0)\n",
            "Requirement already satisfied: pyasn1-modules>=0.2.1 in /usr/local/lib/python3.8/dist-packages (from google-auth<3,>=1.6.3->tensorboard<2.12,>=2.11->tensorflow-gpu) (0.2.8)\n",
            "Requirement already satisfied: rsa<5,>=3.1.4 in /usr/local/lib/python3.8/dist-packages (from google-auth<3,>=1.6.3->tensorboard<2.12,>=2.11->tensorflow-gpu) (4.9)\n",
            "Requirement already satisfied: requests-oauthlib>=0.7.0 in /usr/local/lib/python3.8/dist-packages (from google-auth-oauthlib<0.5,>=0.4.1->tensorboard<2.12,>=2.11->tensorflow-gpu) (1.3.1)\n",
            "Requirement already satisfied: importlib-metadata>=4.4 in /usr/local/lib/python3.8/dist-packages (from markdown>=2.6.8->tensorboard<2.12,>=2.11->tensorflow-gpu) (5.1.0)\n",
            "Requirement already satisfied: zipp>=0.5 in /usr/local/lib/python3.8/dist-packages (from importlib-metadata>=4.4->markdown>=2.6.8->tensorboard<2.12,>=2.11->tensorflow-gpu) (3.11.0)\n",
            "Requirement already satisfied: pyasn1<0.5.0,>=0.4.6 in /usr/local/lib/python3.8/dist-packages (from pyasn1-modules>=0.2.1->google-auth<3,>=1.6.3->tensorboard<2.12,>=2.11->tensorflow-gpu) (0.4.8)\n",
            "Requirement already satisfied: certifi>=2017.4.17 in /usr/local/lib/python3.8/dist-packages (from requests<3,>=2.21.0->tensorboard<2.12,>=2.11->tensorflow-gpu) (2022.12.7)\n",
            "Requirement already satisfied: urllib3!=1.25.0,!=1.25.1,<1.26,>=1.21.1 in /usr/local/lib/python3.8/dist-packages (from requests<3,>=2.21.0->tensorboard<2.12,>=2.11->tensorflow-gpu) (1.24.3)\n",
            "Requirement already satisfied: idna<3,>=2.5 in /usr/local/lib/python3.8/dist-packages (from requests<3,>=2.21.0->tensorboard<2.12,>=2.11->tensorflow-gpu) (2.10)\n",
            "Requirement already satisfied: chardet<4,>=3.0.2 in /usr/local/lib/python3.8/dist-packages (from requests<3,>=2.21.0->tensorboard<2.12,>=2.11->tensorflow-gpu) (3.0.4)\n",
            "Requirement already satisfied: oauthlib>=3.0.0 in /usr/local/lib/python3.8/dist-packages (from requests-oauthlib>=0.7.0->google-auth-oauthlib<0.5,>=0.4.1->tensorboard<2.12,>=2.11->tensorflow-gpu) (3.2.2)\n",
            "Requirement already satisfied: pyparsing!=3.0.5,>=2.0.2 in /usr/local/lib/python3.8/dist-packages (from packaging->tensorflow-gpu) (3.0.9)\n",
            "Installing collected packages: tensorflow-estimator, tensorboard, keras, flatbuffers, tensorflow-gpu\n",
            "  Attempting uninstall: tensorflow-estimator\n",
            "    Found existing installation: tensorflow-estimator 2.9.0\n",
            "    Uninstalling tensorflow-estimator-2.9.0:\n",
            "      Successfully uninstalled tensorflow-estimator-2.9.0\n",
            "  Attempting uninstall: tensorboard\n",
            "    Found existing installation: tensorboard 2.9.1\n",
            "    Uninstalling tensorboard-2.9.1:\n",
            "      Successfully uninstalled tensorboard-2.9.1\n",
            "  Attempting uninstall: keras\n",
            "    Found existing installation: keras 2.9.0\n",
            "    Uninstalling keras-2.9.0:\n",
            "      Successfully uninstalled keras-2.9.0\n",
            "  Attempting uninstall: flatbuffers\n",
            "    Found existing installation: flatbuffers 1.12\n",
            "    Uninstalling flatbuffers-1.12:\n",
            "      Successfully uninstalled flatbuffers-1.12\n",
            "\u001b[31mERROR: pip's dependency resolver does not currently take into account all the packages that are installed. This behaviour is the source of the following dependency conflicts.\n",
            "tensorflow 2.9.2 requires flatbuffers<2,>=1.12, but you have flatbuffers 22.12.6 which is incompatible.\n",
            "tensorflow 2.9.2 requires keras<2.10.0,>=2.9.0rc0, but you have keras 2.11.0 which is incompatible.\n",
            "tensorflow 2.9.2 requires tensorboard<2.10,>=2.9, but you have tensorboard 2.11.0 which is incompatible.\n",
            "tensorflow 2.9.2 requires tensorflow-estimator<2.10.0,>=2.9.0rc0, but you have tensorflow-estimator 2.11.0 which is incompatible.\u001b[0m\n",
            "Successfully installed flatbuffers-22.12.6 keras-2.11.0 tensorboard-2.11.0 tensorflow-estimator-2.11.0 tensorflow-gpu-2.11.0\n"
          ]
        }
      ],
      "source": [
        "pip install tensorflow-gpu"
      ]
    },
    {
      "cell_type": "code",
      "source": [
        "import tensorflow as tf\n",
        "print(tf.__version__)"
      ],
      "metadata": {
        "colab": {
          "base_uri": "https://localhost:8080/"
        },
        "id": "BiEi806QqSME",
        "outputId": "a7a1f78e-fe03-41e5-ac83-5ceb64f5ecca"
      },
      "execution_count": 2,
      "outputs": [
        {
          "output_type": "stream",
          "name": "stdout",
          "text": [
            "2.11.0\n"
          ]
        }
      ]
    },
    {
      "cell_type": "code",
      "source": [
        "import numpy as np\n",
        "import pandas as pd\n",
        "import matplotlib.pyplot as plt"
      ],
      "metadata": {
        "id": "2e8PY_n4qocD"
      },
      "execution_count": 3,
      "outputs": []
    },
    {
      "cell_type": "code",
      "source": [
        "#data preprocessing\n",
        "from tensorflow.keras.datasets import cifar10"
      ],
      "metadata": {
        "id": "swP2Xafnq0y5"
      },
      "execution_count": 4,
      "outputs": []
    },
    {
      "cell_type": "code",
      "source": [
        "(x_train,y_train),(x_test,y_test)= cifar10.load_data()"
      ],
      "metadata": {
        "colab": {
          "base_uri": "https://localhost:8080/"
        },
        "id": "cqkyz6B9rHn7",
        "outputId": "d0b2ba0c-472e-468e-9f9f-5a988330075a"
      },
      "execution_count": 5,
      "outputs": [
        {
          "output_type": "stream",
          "name": "stdout",
          "text": [
            "Downloading data from https://www.cs.toronto.edu/~kriz/cifar-10-python.tar.gz\n",
            "170498071/170498071 [==============================] - 2s 0us/step\n"
          ]
        }
      ]
    },
    {
      "cell_type": "code",
      "source": [
        "#now creating variables for all classes in the dataset.\n",
        "class_names=['0: airplane','1: automobile','2: bird','3: cat','4: deer','5: dog','6: frog','7: horse','8: ship','9: truck']"
      ],
      "metadata": {
        "id": "-nLgg_wlrWYr"
      },
      "execution_count": 6,
      "outputs": []
    },
    {
      "cell_type": "code",
      "source": [
        "print(class_names)"
      ],
      "metadata": {
        "colab": {
          "base_uri": "https://localhost:8080/"
        },
        "id": "9JRlOt7Er5gf",
        "outputId": "2735fc62-1c52-49a0-8841-4c95bfb6d90e"
      },
      "execution_count": 7,
      "outputs": [
        {
          "output_type": "stream",
          "name": "stdout",
          "text": [
            "['0: airplane', '1: automobile', '2: bird', '3: cat', '4: deer', '5: dog', '6: frog', '7: horse', '8: ship', '9: truck']\n"
          ]
        }
      ]
    },
    {
      "cell_type": "code",
      "source": [
        "x_train.max(),x_train.min(),x_train.mean()\n",
        "#max min and avg values."
      ],
      "metadata": {
        "colab": {
          "base_uri": "https://localhost:8080/"
        },
        "id": "wnTHDBGDr8IH",
        "outputId": "eac83df2-1195-4cd7-d0b9-924b40782436"
      },
      "execution_count": 8,
      "outputs": [
        {
          "output_type": "execute_result",
          "data": {
            "text/plain": [
              "(255, 0, 120.70756512369792)"
            ]
          },
          "metadata": {},
          "execution_count": 8
        }
      ]
    },
    {
      "cell_type": "code",
      "source": [
        "y_train.max(),y_train.min(),y_train.mean()"
      ],
      "metadata": {
        "colab": {
          "base_uri": "https://localhost:8080/"
        },
        "id": "Msi_t_bVsLpC",
        "outputId": "c2a829c6-eca7-491e-e814-512c7d9bd1ef"
      },
      "execution_count": 9,
      "outputs": [
        {
          "output_type": "execute_result",
          "data": {
            "text/plain": [
              "(9, 0, 4.5)"
            ]
          },
          "metadata": {},
          "execution_count": 9
        }
      ]
    },
    {
      "cell_type": "code",
      "source": [
        "#it has 10 values from 0 to 9 hence in y_train the max value is 9."
      ],
      "metadata": {
        "id": "7yJ1qVICsSnC"
      },
      "execution_count": 10,
      "outputs": []
    },
    {
      "cell_type": "code",
      "source": [
        "#normalizing the images\n",
        "x_train=x_train/255.0\n",
        "x_test=x_test/255.0"
      ],
      "metadata": {
        "id": "to6b7klQsiew"
      },
      "execution_count": 11,
      "outputs": []
    },
    {
      "cell_type": "code",
      "source": [
        "x_train.max(),x_train.min(),x_train.mean()"
      ],
      "metadata": {
        "colab": {
          "base_uri": "https://localhost:8080/"
        },
        "id": "iPOoIttpst-3",
        "outputId": "0fbdae8e-bfce-4b43-cea8-8205327c259f"
      },
      "execution_count": 12,
      "outputs": [
        {
          "output_type": "execute_result",
          "data": {
            "text/plain": [
              "(1.0, 0.0, 0.4733630004850874)"
            ]
          },
          "metadata": {},
          "execution_count": 12
        }
      ]
    },
    {
      "cell_type": "code",
      "source": [
        "x_train.shape,x_test.shape"
      ],
      "metadata": {
        "colab": {
          "base_uri": "https://localhost:8080/"
        },
        "id": "nGD-iLwwsyFc",
        "outputId": "4f1ec62d-d988-4399-8ab5-6bc7b4073b05"
      },
      "execution_count": 13,
      "outputs": [
        {
          "output_type": "execute_result",
          "data": {
            "text/plain": [
              "((50000, 32, 32, 3), (10000, 32, 32, 3))"
            ]
          },
          "metadata": {},
          "execution_count": 13
        }
      ]
    },
    {
      "cell_type": "code",
      "source": [
        "#above we see that there are 50000 images in x_train and 10000 images in x_test.\n",
        "#the images in x_train and x_test are 32 * 32 * 8."
      ],
      "metadata": {
        "id": "oGCqeqOns4w_"
      },
      "execution_count": 14,
      "outputs": []
    },
    {
      "cell_type": "code",
      "source": [
        "plt.imshow(x_train[0])"
      ],
      "metadata": {
        "colab": {
          "base_uri": "https://localhost:8080/",
          "height": 283
        },
        "id": "DRwjPMmYtkYA",
        "outputId": "7bc89e14-5cf4-46bb-d643-bbd11f00ff81"
      },
      "execution_count": 15,
      "outputs": [
        {
          "output_type": "execute_result",
          "data": {
            "text/plain": [
              "<matplotlib.image.AxesImage at 0x7fe4a1a240d0>"
            ]
          },
          "metadata": {},
          "execution_count": 15
        },
        {
          "output_type": "display_data",
          "data": {
            "text/plain": [
              "<Figure size 432x288 with 1 Axes>"
            ],
            "image/png": "[encoded data removed]"
          },
          "metadata": {
            "needs_background": "light"
          }
        }
      ]
    },
    {
      "cell_type": "code",
      "source": [
        "y_train[0],class_names"
      ],
      "metadata": {
        "colab": {
          "base_uri": "https://localhost:8080/"
        },
        "id": "i3V5YCdbwNyc",
        "outputId": "fb5ce302-5c73-43e4-9dfa-1785810bdb56"
      },
      "execution_count": 16,
      "outputs": [
        {
          "output_type": "execute_result",
          "data": {
            "text/plain": [
              "(array([6], dtype=uint8),\n",
              " ['0: airplane',\n",
              "  '1: automobile',\n",
              "  '2: bird',\n",
              "  '3: cat',\n",
              "  '4: deer',\n",
              "  '5: dog',\n",
              "  '6: frog',\n",
              "  '7: horse',\n",
              "  '8: ship',\n",
              "  '9: truck'])"
            ]
          },
          "metadata": {},
          "execution_count": 16
        }
      ]
    },
    {
      "cell_type": "code",
      "source": [
        "#6th is frog."
      ],
      "metadata": {
        "id": "LoQyt2t_wW7Z"
      },
      "execution_count": 17,
      "outputs": []
    },
    {
      "cell_type": "code",
      "source": [
        "#building the CNN\n",
        "#first we define the object.\n",
        "model=tf.keras.models.Sequential()"
      ],
      "metadata": {
        "id": "oQbp1YcUwvD0"
      },
      "execution_count": 18,
      "outputs": []
    },
    {
      "cell_type": "code",
      "source": [
        "#adding 1st convolution layers\n",
        "#1)no. of filters or kernels = 32\n",
        "#2)kernel size= 3\n",
        "#3)padding=same\n",
        "#4)activation function activation=ReLU\n",
        "#5)input shape=(32,32,3)\n",
        "#adding column or row of zeros is called padding.\n",
        "#there are 2 types of padding:same and valid padding.\n",
        "#in same padding we add column of zeros and then apply filter.\n",
        "#image * filter = output\n",
        "#after applying filter we can select max value here for each value of matrix\n",
        "#in the output.\n",
        "#now in valid padding we don't add a column of zeros here.\n",
        "#we directly apply filter to get output.\n",
        "#after applying filter we can select max values here.\n",
        "#in valid padding we can lose some part of info."
      ],
      "metadata": {
        "id": "X5dgTiqvw9CP"
      },
      "execution_count": 19,
      "outputs": []
    },
    {
      "cell_type": "code",
      "source": [
        "model.add(tf.keras.layers.Conv2D(filters=32,kernel_size=3,padding='same',activation='ReLU',input_shape=[32,32,3]))"
      ],
      "metadata": {
        "id": "ibvLARLsytbX"
      },
      "execution_count": 20,
      "outputs": []
    },
    {
      "cell_type": "code",
      "source": [
        "#after adding 1st CNN layer we need to add 2nd CNN layer and maxpool layer. "
      ],
      "metadata": {
        "id": "UtfJYmsFzGcn"
      },
      "execution_count": 21,
      "outputs": []
    },
    {
      "cell_type": "code",
      "source": [
        "#1)no. of filters or kernels = 32\n",
        "#2)kernel size= 3\n",
        "#3)padding=same\n",
        "#4)activation function activation=ReLU\n",
        "#for 2nd convolution layer we don't need input shape.\n",
        "model.add(tf.keras.layers.Conv2D(filters=32,kernel_size=3,padding='same',activation='ReLU'))\n",
        "#now we need to specify maxpool layer parameters.\n",
        "#1)poolsize = 2\n",
        "#2)strides=2\n",
        "#3)padding=valid\n",
        "#size of the square units on which we are going to select the maximum value is called\n",
        "#pool size.\n",
        "#by how many pixel units, filter/kernel is moving is called stride size.\n",
        "model.add(tf.keras.layers.MaxPool2D(pool_size=2,strides=2,padding='valid'))"
      ],
      "metadata": {
        "id": "ycs5n4pO3ef6"
      },
      "execution_count": 22,
      "outputs": []
    },
    {
      "cell_type": "code",
      "source": [
        "#now adding 3rd CNN layer\n",
        "#1)no. of filters or kernels = 64\n",
        "#2)kernel size= 3\n",
        "#3)padding=same\n",
        "#4)activation function activation=ReLU\n",
        "model.add(tf.keras.layers.Conv2D(filters=64,kernel_size=3,padding='same',activation='ReLU'))"
      ],
      "metadata": {
        "id": "J0YddvXf79ac"
      },
      "execution_count": 23,
      "outputs": []
    },
    {
      "cell_type": "code",
      "source": [
        "#now we have to add one more CNN and maxpool layer\n",
        "#1)no. of filters or kernels = 64\n",
        "#2)kernel size= 3\n",
        "#3)padding=same\n",
        "#4)activation function activation=ReLU\n",
        "model.add(tf.keras.layers.Conv2D(filters=64,kernel_size=3,padding='same',activation='ReLU'))\n",
        "#now we need to specify maxpool layer parameters.\n",
        "#1)poolsize = 2\n",
        "#2)strides=2\n",
        "#3)padding=valid\n",
        "#size of the square units on which we are going to select the maximum value is called\n",
        "#pool size.\n",
        "#by how many pixel units, filter/kernel is moving is called stride size.\n",
        "model.add(tf.keras.layers.MaxPool2D(pool_size=2,strides=2,padding='valid'))"
      ],
      "metadata": {
        "id": "mGVovc8o8L95"
      },
      "execution_count": 24,
      "outputs": []
    },
    {
      "cell_type": "code",
      "source": [
        "#above we added 4th CNN layer and maxpool layer.\n",
        "#now adding the dropout layer\n",
        "model.add(tf.keras.layers.Dropout(0,4))\n",
        "#dropout is 40% here and dropout is a regilarization technique."
      ],
      "metadata": {
        "id": "Ce0F4ykS8hhf"
      },
      "execution_count": 25,
      "outputs": []
    },
    {
      "cell_type": "code",
      "source": [
        "#adding the flattening layer.\n",
        "model.add(tf.keras.layers.Flatten())\n",
        "# by adding the flattening layer we are converting array to vector."
      ],
      "metadata": {
        "id": "CgXfQB9P8-5c"
      },
      "execution_count": 26,
      "outputs": []
    },
    {
      "cell_type": "code",
      "source": [
        "#now adding 1st dense layer.\n",
        "model.add(tf.keras.layers.Dense(units=128,activation='ReLU'))"
      ],
      "metadata": {
        "id": "GalNXAip9TSh"
      },
      "execution_count": 27,
      "outputs": []
    },
    {
      "cell_type": "code",
      "source": [
        "#adding 2nd dense layer and this is the output layer.\n",
        "model.add(tf.keras.layers.Dense(units=10,activation='softmax'))\n",
        "#we are specifying no. of units = 10 as 10 outputs are present in the output\n",
        "#layer. As we have multiple outputs here so use softmax activation function."
      ],
      "metadata": {
        "id": "9GDYsjJH9mn2"
      },
      "execution_count": 28,
      "outputs": []
    },
    {
      "cell_type": "code",
      "source": [
        "model.summary()"
      ],
      "metadata": {
        "colab": {
          "base_uri": "https://localhost:8080/"
        },
        "id": "JfqWZWUO-Mdl",
        "outputId": "42920c66-52f2-43d3-c4cc-b4be6d0a289f"
      },
      "execution_count": 29,
      "outputs": [
        {
          "output_type": "stream",
          "name": "stdout",
          "text": [
            "Model: \"sequential\"\n",
            "_________________________________________________________________\n",
            " Layer (type)                Output Shape              Param #   \n",
            "=================================================================\n",
            " conv2d (Conv2D)             (None, 32, 32, 32)        896       \n",
            "                                                                 \n",
            " conv2d_1 (Conv2D)           (None, 32, 32, 32)        9248      \n",
            "                                                                 \n",
            " max_pooling2d (MaxPooling2D  (None, 16, 16, 32)       0         \n",
            " )                                                               \n",
            "                                                                 \n",
            " conv2d_2 (Conv2D)           (None, 16, 16, 64)        18496     \n",
            "                                                                 \n",
            " conv2d_3 (Conv2D)           (None, 16, 16, 64)        36928     \n",
            "                                                                 \n",
            " max_pooling2d_1 (MaxPooling  (None, 8, 8, 64)         0         \n",
            " 2D)                                                             \n",
            "                                                                 \n",
            " dropout (Dropout)           (None, 8, 8, 64)          0         \n",
            "                                                                 \n",
            " flatten (Flatten)           (None, 4096)              0         \n",
            "                                                                 \n",
            " dense (Dense)               (None, 128)               524416    \n",
            "                                                                 \n",
            " dense_1 (Dense)             (None, 10)                1290      \n",
            "                                                                 \n",
            "=================================================================\n",
            "Total params: 591,274\n",
            "Trainable params: 591,274\n",
            "Non-trainable params: 0\n",
            "_________________________________________________________________\n"
          ]
        }
      ]
    },
    {
      "cell_type": "code",
      "source": [
        "#1st we added input layer then CNN layer then relu after that pooling layer\n",
        "#again CNN, relu and pooling after that we added fully connected layers\n",
        "#these are dense layers and output layer at the end."
      ],
      "metadata": {
        "id": "uZ9bbRCN-QOy"
      },
      "execution_count": null,
      "outputs": []
    },
    {
      "cell_type": "code",
      "source": [
        "#training the model.\n",
        "#before training we have to compile the model i.e. the process to configure\n",
        "#the learning process.\n",
        "model.compile(loss='sparse_categorical_crossentropy',optimizer='adam',metrics=['sparse_categorical_accuracy'])\n",
        "#specified loss function which will guide to optimizer so that optimizer can\n",
        "#move to the right direction and find the global minimum and at last we specified metrics.\n",
        "#for binary output use metrics=accuracy\n",
        "#for multiple output use metrics=['sparce_categorical_accuracy']"
      ],
      "metadata": {
        "id": "BCh3uzc9AjLq"
      },
      "execution_count": 30,
      "outputs": []
    },
    {
      "cell_type": "code",
      "source": [
        "#training the model now\n",
        "model.fit(x_train,y_train,batch_size=10,epochs=10)\n",
        "#epochs is the no. of times the model is trained."
      ],
      "metadata": {
        "colab": {
          "base_uri": "https://localhost:8080/"
        },
        "id": "3Md341aSB-j_",
        "outputId": "8f7b3b7c-b937-4378-8d07-577673bf0f06"
      },
      "execution_count": 31,
      "outputs": [
        {
          "output_type": "stream",
          "name": "stdout",
          "text": [
            "Epoch 1/10\n",
            "5000/5000 [==============================] - 358s 71ms/step - loss: 1.3115 - sparse_categorical_accuracy: 0.5286\n",
            "Epoch 2/10\n",
            "5000/5000 [==============================] - 353s 71ms/step - loss: 0.8849 - sparse_categorical_accuracy: 0.6890\n",
            "Epoch 3/10\n",
            "5000/5000 [==============================] - 344s 69ms/step - loss: 0.7180 - sparse_categorical_accuracy: 0.7491\n",
            "Epoch 4/10\n",
            "5000/5000 [==============================] - 354s 71ms/step - loss: 0.6016 - sparse_categorical_accuracy: 0.7867\n",
            "Epoch 5/10\n",
            "5000/5000 [==============================] - 359s 72ms/step - loss: 0.4990 - sparse_categorical_accuracy: 0.8238\n",
            "Epoch 6/10\n",
            "5000/5000 [==============================] - 357s 71ms/step - loss: 0.4154 - sparse_categorical_accuracy: 0.8546\n",
            "Epoch 7/10\n",
            "5000/5000 [==============================] - 360s 72ms/step - loss: 0.3545 - sparse_categorical_accuracy: 0.8743\n",
            "Epoch 8/10\n",
            "5000/5000 [==============================] - 359s 72ms/step - loss: 0.2983 - sparse_categorical_accuracy: 0.8955\n",
            "Epoch 9/10\n",
            "5000/5000 [==============================] - 359s 72ms/step - loss: 0.2645 - sparse_categorical_accuracy: 0.9082\n",
            "Epoch 10/10\n",
            "5000/5000 [==============================] - 363s 73ms/step - loss: 0.2327 - sparse_categorical_accuracy: 0.9185\n"
          ]
        },
        {
          "output_type": "execute_result",
          "data": {
            "text/plain": [
              "<keras.callbacks.History at 0x7fe49bb1e340>"
            ]
          },
          "metadata": {},
          "execution_count": 31
        }
      ]
    },
    {
      "cell_type": "code",
      "source": [
        "#model evaluation and prediction\n",
        "test_loss,test_acc=model.evaluate(x_test,y_test)"
      ],
      "metadata": {
        "colab": {
          "base_uri": "https://localhost:8080/"
        },
        "id": "Md5RHaxACX0j",
        "outputId": "c249f452-ec6e-4684-c12c-b0bf301e8367"
      },
      "execution_count": 32,
      "outputs": [
        {
          "output_type": "stream",
          "name": "stdout",
          "text": [
            "313/313 [==============================] - 26s 81ms/step - loss: 1.3886 - sparse_categorical_accuracy: 0.7278\n"
          ]
        }
      ]
    },
    {
      "cell_type": "code",
      "source": [
        "print('TEST ACCURACY IS: {}'.format(test_acc))"
      ],
      "metadata": {
        "colab": {
          "base_uri": "https://localhost:8080/"
        },
        "id": "RaGxXl0EKRF9",
        "outputId": "72d7d80b-af05-447d-8cdc-2fb4cbb07620"
      },
      "execution_count": 33,
      "outputs": [
        {
          "output_type": "stream",
          "name": "stdout",
          "text": [
            "TEST ACCURACY IS: 0.7278000116348267\n"
          ]
        }
      ]
    },
    {
      "cell_type": "code",
      "source": [
        "#to improve accuracy we can change epochs,dropout percentages and the \n",
        "#combination of all layers."
      ],
      "metadata": {
        "id": "RrWgCTvMKgoy"
      },
      "execution_count": 34,
      "outputs": []
    },
    {
      "cell_type": "code",
      "source": [
        "#predictions\n",
        "#y_pred=model.predict_classes(x_test)\n",
        "y_pred = np.argmax(model.predict(x_test), axis=-1)"
      ],
      "metadata": {
        "colab": {
          "base_uri": "https://localhost:8080/"
        },
        "id": "tNHVxltkK6tx",
        "outputId": "8e896ecf-847b-4be4-a72d-1909f8901d03"
      },
      "execution_count": 36,
      "outputs": [
        {
          "output_type": "stream",
          "name": "stdout",
          "text": [
            "313/313 [==============================] - 22s 70ms/step\n"
          ]
        }
      ]
    },
    {
      "cell_type": "code",
      "source": [
        "#above we predicted values of x_test"
      ],
      "metadata": {
        "id": "h8kglzNSLEgP"
      },
      "execution_count": 37,
      "outputs": []
    },
    {
      "cell_type": "code",
      "source": [
        "print(y_pred[10],y_test[10])"
      ],
      "metadata": {
        "colab": {
          "base_uri": "https://localhost:8080/"
        },
        "id": "gY_sCta5LTU0",
        "outputId": "71e584c2-1dea-4a08-afe4-1af185d8d419"
      },
      "execution_count": 38,
      "outputs": [
        {
          "output_type": "stream",
          "name": "stdout",
          "text": [
            "4 [0]\n"
          ]
        }
      ]
    },
    {
      "cell_type": "code",
      "source": [
        "print(y_pred[0],y_test[0])"
      ],
      "metadata": {
        "colab": {
          "base_uri": "https://localhost:8080/"
        },
        "id": "8mPVEmLSLeOk",
        "outputId": "3993946e-d95a-4589-e19c-91c634d22ab0"
      },
      "execution_count": 39,
      "outputs": [
        {
          "output_type": "stream",
          "name": "stdout",
          "text": [
            "3 [3]\n"
          ]
        }
      ]
    },
    {
      "cell_type": "code",
      "source": [
        "#confusion matrix\n",
        "from sklearn.metrics import confusion_matrix,accuracy_score\n",
        "cm=confusion_matrix(y_test,y_pred)\n",
        "print(cm)"
      ],
      "metadata": {
        "colab": {
          "base_uri": "https://localhost:8080/"
        },
        "id": "K8uuCHwyLrBz",
        "outputId": "c882ddec-7c19-4952-9bc3-309126587ece"
      },
      "execution_count": 40,
      "outputs": [
        {
          "output_type": "stream",
          "name": "stdout",
          "text": [
            "[[761  12  66  21  19   7   7  12  67  28]\n",
            " [ 18 833   5   8   2   5   7   2  30  90]\n",
            " [ 60   6 642  51  97  45  59  23   9   8]\n",
            " [ 20   6  89 574  93 112  52  27  13  14]\n",
            " [ 17   4  91  49 729  20  33  46   7   4]\n",
            " [ 11   5  66 180  77 554  31  50  12  14]\n",
            " [  9   5  64  64  66  12 751   8  17   4]\n",
            " [ 12   3  37  58  86  37   0 745   3  19]\n",
            " [ 67  19  13  16   9   2   2   3 846  23]\n",
            " [ 32  53   7  14   5   6   5  12  23 843]]\n"
          ]
        }
      ]
    },
    {
      "cell_type": "code",
      "source": [
        "#in confusion matrix the diagonal values are the right predicted values\n",
        "#and other values are wrong predicted values.\n",
        "#when we see from above these are predicted values"
      ],
      "metadata": {
        "id": "GL-HlPioMKMu"
      },
      "execution_count": 41,
      "outputs": []
    },
    {
      "cell_type": "code",
      "source": [
        "#when we see from left towards right these are actual values.\n",
        "#now checking accuracy based on confusion matrix.\n",
        "acc_cm=accuracy_score(y_test,y_pred)\n",
        "print(acc_cm)"
      ],
      "metadata": {
        "colab": {
          "base_uri": "https://localhost:8080/"
        },
        "id": "rCgyVve8Mmb9",
        "outputId": "b9b9d151-4332-41eb-d58e-da010130b048"
      },
      "execution_count": 42,
      "outputs": [
        {
          "output_type": "stream",
          "name": "stdout",
          "text": [
            "0.7278\n"
          ]
        }
      ]
    },
    {
      "cell_type": "code",
      "source": [
        "#WE GOT ACCURACY SCORE OF 0.7278 FROM CONFUSION MATRIX.\n",
        "#WE MADE PREDICTIONS AND ALSO EVALUATED THE MODEL ABOVE."
      ],
      "metadata": {
        "id": "da_qgY_nNAdL"
      },
      "execution_count": 43,
      "outputs": []
    }
  ]
}